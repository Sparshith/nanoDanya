{
 "cells": [
  {
   "cell_type": "code",
   "execution_count": 12,
   "id": "9f61da35-04c1-44cd-82b4-34c29699ad5a",
   "metadata": {},
   "outputs": [],
   "source": [
    "import torch, pickle\n",
    "from pathlib import Path\n",
    "import sys\n",
    "sys.path.append(str((Path.cwd() / \"nanochat\").resolve()))\n",
    "from nanochat.gpt import GPT, GPTConfig"
   ]
  },
  {
   "cell_type": "code",
   "execution_count": 2,
   "id": "7982f720-b86d-45e9-ad98-4d8406427beb",
   "metadata": {},
   "outputs": [],
   "source": [
    "ckpt = torch.load(\"chess_min.pt\", map_location=\"cpu\")\n",
    "config = GPTConfig(**ckpt[\"meta\"][\"model_config\"])\n",
    "model = GPT(config).eval()\n",
    "model.load_state_dict(ckpt[\"model\"])\n",
    "stoi = ckpt[\"meta\"][\"tokenizer\"][\"stoi\"]\n",
    "itos = ckpt[\"meta\"][\"tokenizer\"][\"itos\"]"
   ]
  },
  {
   "cell_type": "code",
   "execution_count": 10,
   "id": "97a3a837-6fa3-45ad-a8bc-cdcb154977bd",
   "metadata": {},
   "outputs": [],
   "source": [
    "prompt_text = \"e4 e5 Nf3 d6 c3 Nc6 Bc4 Bg4 h3 Bxf3 Qxf3 Nf6 d3 Be7 Be3 O-O\"\n",
    "prompt_tokens = prompt_text.strip().split()\n",
    "prompt_ids = [stoi[token] for token in prompt_tokens]"
   ]
  },
  {
   "cell_type": "code",
   "execution_count": 11,
   "id": "b20001a4-4435-4540-b924-ccdd0fd8c1c8",
   "metadata": {},
   "outputs": [
    {
     "name": "stdout",
     "output_type": "stream",
     "text": [
      "e4 e5 Nf3 d6 c3 Nc6 Bc4 Bg4 h3 Bxf3 Qxf3 Nf6 d3 Be7 Be3 O-O Bxf2 Q1e2+ Nxf6 Rfxf6 Nf4+ Qe2# Ke4 Rf8+ Rxe2+ Rxe1# Rah8 Bg6 Nxf7+ Qcc7# a3 hxg7 Qd6# Re4 Ra2# Rfb1\n"
     ]
    }
   ],
   "source": [
    "x = torch.tensor(prompt_ids)[None, :]\n",
    "for _ in range(20):\n",
    "    logits = model(x[:, -config.sequence_len:])\n",
    "    probs = torch.softmax(logits[:, -1, :], dim=-1)\n",
    "    next_id = torch.multinomial(probs, num_samples=1)\n",
    "    x = torch.cat([x, next_id], dim=1)\n",
    "    if itos[next_id.item()] == \"<eos>\":\n",
    "         break\n",
    "moves = [itos[i] for i in x[0].tolist()]\n",
    "print(\" \".join(moves))"
   ]
  },
  {
   "cell_type": "code",
   "execution_count": null,
   "id": "2d848217-195a-4e77-8789-5fcfd17de1d9",
   "metadata": {},
   "outputs": [],
   "source": []
  }
 ],
 "metadata": {
  "kernelspec": {
   "display_name": "Python 3 (ipykernel)",
   "language": "python",
   "name": "python3"
  },
  "language_info": {
   "codemirror_mode": {
    "name": "ipython",
    "version": 3
   },
   "file_extension": ".py",
   "mimetype": "text/x-python",
   "name": "python",
   "nbconvert_exporter": "python",
   "pygments_lexer": "ipython3",
   "version": "3.13.5"
  }
 },
 "nbformat": 4,
 "nbformat_minor": 5
}
