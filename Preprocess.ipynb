{
 "cells": [
  {
   "cell_type": "code",
   "execution_count": 26,
   "id": "db3e31d4-940d-41fa-8a2e-9c59b313dd96",
   "metadata": {},
   "outputs": [],
   "source": [
    "import json\n",
    "import pickle\n",
    "import re\n",
    "import numpy as np\n",
    "from pathlib import Path"
   ]
  },
  {
   "cell_type": "code",
   "execution_count": 35,
   "id": "247855b7-69fc-4dd7-9d37-d820fe5c4bc6",
   "metadata": {},
   "outputs": [],
   "source": [
    "with open(\"data/raw/simple_data.pgn\", \"r\", encoding=\"utf-8\") as f:\n",
    "    lines = f.read().splitlines()"
   ]
  },
  {
   "cell_type": "markdown",
   "id": "e63a0dcb-8f36-4b89-8963-d5b5e3d72aaf",
   "metadata": {},
   "source": [
    "#### Tokenise\n",
    "\n",
    "1. Each legal move from the dataset is one token\n",
    "2. Filter out all move numbers\n",
    "3. Filter out results of the game"
   ]
  },
  {
   "cell_type": "code",
   "execution_count": 36,
   "id": "67f7535a-67d6-4be5-971c-0c7da6013f75",
   "metadata": {},
   "outputs": [],
   "source": [
    "games = []\n",
    "for raw_line in lines:\n",
    "    line = raw_line.strip()\n",
    "    # TODO: this is a naive approach - make this better\n",
    "    if line and not line.startswith(\"[\"):\n",
    "        games.append(line)\n",
    "# games[0]"
   ]
  },
  {
   "cell_type": "code",
   "execution_count": 37,
   "id": "f9ac9363-c57f-4d98-8b2f-a5565447f88d",
   "metadata": {},
   "outputs": [],
   "source": [
    "skip_strings = {\"1-0\", \"0-1\", \"1/2-1/2\", \"*\"}\n",
    "move_token_pattern = re.compile(r\"\\d+\\.+$\") # removes 1., 2. etc\n",
    "token_sequences = []\n",
    "for game in games:\n",
    "    tokens = []\n",
    "    for token in game.split(\" \"):\n",
    "        if not token or token in skip_strings or move_token_pattern.match(token):\n",
    "            continue\n",
    "        tokens.append(token)\n",
    "    if tokens:\n",
    "        token_sequences.append([\"<bos>\", *tokens, \"<eos>\"])\n",
    "#token_sequences[:1][0]"
   ]
  },
  {
   "cell_type": "code",
   "execution_count": 38,
   "id": "1dedf666-8314-46a4-9b0f-b483ff6d03d9",
   "metadata": {},
   "outputs": [],
   "source": [
    "vocab = sorted({token for seq in token_sequences for token in seq})\n",
    "token_to_id = {token: index for index, token in enumerate(vocab)}\n",
    "id_to_token = {index: token for token, index in token_to_id.items()}"
   ]
  },
  {
   "cell_type": "code",
   "execution_count": 39,
   "id": "86edf776-85e5-4ece-ac3e-f0e4b555b424",
   "metadata": {},
   "outputs": [],
   "source": [
    "id_sequences = [[token_to_id[token] for token in seq] for seq in token_sequences]"
   ]
  },
  {
   "cell_type": "markdown",
   "id": "127bc64a-01cf-4d18-b409-be0b0cc05593",
   "metadata": {},
   "source": [
    "#### Create Training & Validation datasets"
   ]
  },
  {
   "cell_type": "code",
   "execution_count": 40,
   "id": "ebf587b1-6203-4e48-a1ff-7a686c2347c6",
   "metadata": {},
   "outputs": [],
   "source": [
    "context_length = 512 # random number to estimate max moves in a chess game"
   ]
  },
  {
   "cell_type": "code",
   "execution_count": 41,
   "id": "e1b5830b-5fb9-4e2d-ac69-2bd09bddfc59",
   "metadata": {},
   "outputs": [
    {
     "data": {
      "text/plain": [
       "(2538, 283)"
      ]
     },
     "execution_count": 41,
     "metadata": {},
     "output_type": "execute_result"
    }
   ],
   "source": [
    "split_index = int(len(id_sequences) * 0.9)\n",
    "train_sequences = id_sequences[:split_index]\n",
    "val_sequences = id_sequences[split_index:]\n",
    "len(train_sequences), len(val_sequences)"
   ]
  },
  {
   "cell_type": "code",
   "execution_count": 42,
   "id": "fdb058b4-6867-4c31-8897-50dae432d919",
   "metadata": {},
   "outputs": [
    {
     "data": {
      "text/plain": [
       "(185693, 18546)"
      ]
     },
     "execution_count": 42,
     "metadata": {},
     "output_type": "execute_result"
    }
   ],
   "source": [
    "train_tokens = []\n",
    "for seq in train_sequences:\n",
    "    train_tokens.extend(seq)\n",
    "val_tokens = []\n",
    "for seq in val_sequences:\n",
    "    val_tokens.extend(seq)\n",
    "len(train_tokens), len(val_tokens)\n"
   ]
  },
  {
   "cell_type": "code",
   "execution_count": 44,
   "id": "8b6651eb-9850-4386-ab6a-e333cc8b8eff",
   "metadata": {},
   "outputs": [],
   "source": [
    "out_dir = Path(\"data/processed\")\n",
    "out_dir.mkdir(parents=True, exist_ok=True)\n",
    "np.array(train_tokens, dtype=np.uint16).tofile(out_dir / \"train.bin\")\n",
    "np.array(val_tokens, dtype=np.uint16).tofile(out_dir / \"val.bin\")\n",
    "meta = {\n",
    "    \"vocab_size\": len(vocab),\n",
    "    \"itos\": vocab,\n",
    "    \"stoi\": {token: token_to_id[token] for token in vocab},\n",
    "    \"context_length\": context_length\n",
    "}\n",
    "with (out_dir / \"meta.pkl\").open(\"wb\") as f:\n",
    "    pickle.dump(meta, f)"
   ]
  }
 ],
 "metadata": {
  "kernelspec": {
   "display_name": "Python 3 (ipykernel)",
   "language": "python",
   "name": "python3"
  },
  "language_info": {
   "codemirror_mode": {
    "name": "ipython",
    "version": 3
   },
   "file_extension": ".py",
   "mimetype": "text/x-python",
   "name": "python",
   "nbconvert_exporter": "python",
   "pygments_lexer": "ipython3",
   "version": "3.13.5"
  }
 },
 "nbformat": 4,
 "nbformat_minor": 5
}
